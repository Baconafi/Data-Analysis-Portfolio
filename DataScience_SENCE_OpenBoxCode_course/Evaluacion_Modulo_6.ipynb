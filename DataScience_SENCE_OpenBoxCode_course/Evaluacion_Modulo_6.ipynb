{
  "nbformat": 4,
  "nbformat_minor": 0,
  "metadata": {
    "colab": {
      "provenance": []
    },
    "kernelspec": {
      "name": "python3",
      "display_name": "Python 3"
    },
    "language_info": {
      "name": "python"
    }
  },
  "cells": [
    {
      "cell_type": "markdown",
      "source": [
        "##1. La principal diferencia entre los métodos supervisados (I) y no supervisados (II) es que:\n",
        "\n",
        "\n",
        "c) (I) usan la variable respuesta para entrenar el modelo.\n"
      ],
      "metadata": {
        "id": "BUoBFwgmyiq3"
      }
    },
    {
      "cell_type": "markdown",
      "source": [
        "##2. Considere las siguientes afirmaciones:\n",
        "\n",
        "c) (i), (ii) e (iii).\n",
        "\n",
        "Descarté la opción \"El número máximo de componentes principales es menor o igual al número de variables\" porque debería ser en estricto menor al número de variables para mantener el propósito de reducción de dimensionalidad en PCA. Si el número máximo de componentes principales fuera igual al número de variables, no estaríamos reduciendo la dimensionalidad del conjunto de datos. Por lo tanto, la afirmación debería ser \"menor que el número de variables\"."
      ],
      "metadata": {
        "id": "9WXVqwnsytlx"
      }
    },
    {
      "cell_type": "markdown",
      "source": [
        "##3. Como parte de un análisis de datos se analizaron 11 indicadores económicos y sociales de 96 países. Las variables observadas son:\n",
        "\n",
        "b) Asumiendo las condiciones necesarias sobre las componentes no\n",
        "reportadas, entonces es posible que las variables X2, X6, X10 y X11\n",
        "son las que mas contribuyen en la primera componente principal."
      ],
      "metadata": {
        "id": "4A2x8s7x5YQH"
      }
    },
    {
      "cell_type": "markdown",
      "source": [
        "##5. Enuncie al menos tres diferencias entre el análisis factorial y el método de componentes principales.\n",
        "\n",
        "Lo primero comentar que son dos métodos muy similares que se utilizan para reducir la dimensionalidad en los conjuntos de datos, mediante el análisis de asociaciones lineales entre las variables.\n",
        "\n",
        "Análisis de componentes principales (PCA) encuentra las combinaciones lineales de los campos de entrada que mejor realizan la tarea de capturar la varianza disponible en la totalidad del conjunto de campos, de manera que los componentes son ortogonales (perpendiculares) unos de otros. Análisis factorial intenta identificar factores que expliquen el patrón de correlaciones dentro de un conjunto de campos observados.\n",
        "\n",
        "El Análisis Factorial supone que existe un factor común subyacente a todas las variables, el Análisis de Componentes Principales no hace tal asunción.\n",
        "\n",
        "Una tiene que ver con la varianza de las variables. El análisis factorial distingue entre dos tipos de varianza, por un lado varianza común que es la parte de la variación de la variable que es compartida con las otras variables y la varianza única que es la parte de la variación de la variable que es propia de esa variable. El análisis factorial sólo se centra en las varianzas compartidas. La varianza que es exclusiva a campos específicos no se tiene en cuenta a la hora de estimar el modelo.\n",
        "Por el contrario el análisis de componentes principales (PCA) no hace esa distinción entre los dos tipos de varianza, sino que se centra en la varianza total.\n",
        "\n",
        "Otra diferencia viene dada por que el análisis de componentes principales busca encontrar combinaciones lineales de las variables originales que expliquen la mayor parte de la variación total, mientras que el análisis factorial busca un nuevo conjunto de variables, con un menor en número que represente lo que es común a esas variables.\n",
        "\n",
        "\n",
        "\n"
      ],
      "metadata": {
        "id": "qEJoM3yO0D0f"
      }
    },
    {
      "cell_type": "markdown",
      "source": [
        "##6. ¿Qué significa que el método de clusterización sea jerárquico?\n",
        "\n",
        "El Análisis clúster es una técnica de análisis exploratorio utilizada para resolver problemas de clasificación. Se encuadra en los métodos de aprendizaje no supervisado.\n",
        "Su objetivo es ordenar objetos (definidos por un conjunto de variables) en grupos de forma que los miembros del grupo sean lo más homogéneos posibles y los más heterogéneos entre miembros de distintos grupos\n",
        "\n",
        "El método de clustering jerárquico es una técnica de agrupamiento que organiza los datos en una estructura de árbol o jerarquía. En este enfoque, los elementos se agrupan en clústeres de manera jerárquica, es decir, en múltiples niveles, donde los clústeres más similares entre sí se agrupan en clústeres más grandes y más generales\n",
        "\n",
        "Estos se subdividen en aglomerativos y disociativos.\n",
        "1. Los metodos aglomerativos, comienzan el análisis con cada punto de datos individual como un clúster. A partir de estas unidades iniciales se van formando grupos, de forma ascendente, hasta que al final del proceso todos los casos tratados están englobados en un mismo conglomerado.\n",
        "2. Los métodos disociativos, constituyen el proceso inverso al anterior. Comienzan con un conglomerado que engloba a todos los casos tratados y, a partir de este grupo inicial, a través de sucesivas divisiones, se van formando grupos cada vez más pequeños. Este proceso continúa hasta que cada punto de datos está en su propio clúster o hasta que se alcanza un número predeterminado de clústeres."
      ],
      "metadata": {
        "id": "oyd_9vSx3oPD"
      }
    },
    {
      "cell_type": "code",
      "execution_count": null,
      "metadata": {
        "id": "ZQfKokuvxLnR"
      },
      "outputs": [],
      "source": []
    }
  ]
}